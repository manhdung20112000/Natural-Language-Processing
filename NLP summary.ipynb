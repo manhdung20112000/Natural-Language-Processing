{
 "cells": [
  {
   "cell_type": "markdown",
   "metadata": {},
   "source": [
    "# Import and visualize dataset"
   ]
  },
  {
   "cell_type": "code",
   "execution_count": 1,
   "metadata": {},
   "outputs": [],
   "source": [
    "import sklearn.utils\n",
    "import numpy as np\n",
    "import seaborn as sns\n",
    "import matplotlib.pyplot as plt\n",
    "from sklearn import metrics\n",
    "from sklearn.datasets import fetch_20newsgroups"
   ]
  },
  {
   "cell_type": "code",
   "execution_count": 2,
   "metadata": {},
   "outputs": [],
   "source": [
    "twenty_train = fetch_20newsgroups(subset='train', shuffle=True, random_state=42)"
   ]
  },
  {
   "cell_type": "code",
   "execution_count": 3,
   "metadata": {},
   "outputs": [],
   "source": [
    "twenty_test = fetch_20newsgroups(subset='test')"
   ]
  },
  {
   "cell_type": "code",
   "execution_count": 4,
   "metadata": {
    "scrolled": false
   },
   "outputs": [
    {
     "name": "stdout",
     "output_type": "stream",
     "text": [
      "dict_keys(['data', 'filenames', 'target_names', 'target', 'DESCR'])\n"
     ]
    }
   ],
   "source": [
    "print(twenty_train.keys())"
   ]
  },
  {
   "cell_type": "markdown",
   "metadata": {},
   "source": [
    "### Visualize data"
   ]
  },
  {
   "cell_type": "code",
   "execution_count": 5,
   "metadata": {},
   "outputs": [
    {
     "name": "stdout",
     "output_type": "stream",
     "text": [
      "From: lerxst@wam.umd.edu (where's my thing)\n",
      "Subject: WHAT car is this!?\n",
      "Nntp-Posting-Host: rac3.wam.umd.edu\n",
      "Organization: University of Maryland, College Park\n",
      "Lines: 15\n",
      "\n",
      " I was wondering if anyone out there could enlighten me on this car I saw\n",
      "the other day. It was a 2-door sports car, looked to be from the late 60s/\n",
      "early 70s. It was called a Bricklin. The doors were really small. In addition,\n",
      "the front bumper was separate from the rest of the body. This is \n",
      "all I know. If anyone can tellme a model name, engine specs, years\n",
      "of production, where this car is made, history, or whatever info you\n",
      "have on this funky looking car, please e-mail.\n",
      "\n",
      "Thanks,\n",
      "- IL\n",
      "   ---- brought to you by your neighborhood Lerxst ----\n",
      "\n",
      "\n",
      "\n",
      "\n",
      "\n"
     ]
    }
   ],
   "source": [
    "print(twenty_train.data[0])"
   ]
  },
  {
   "cell_type": "code",
   "execution_count": 6,
   "metadata": {},
   "outputs": [
    {
     "data": {
      "text/plain": [
       "['alt.atheism',\n",
       " 'comp.graphics',\n",
       " 'comp.os.ms-windows.misc',\n",
       " 'comp.sys.ibm.pc.hardware',\n",
       " 'comp.sys.mac.hardware',\n",
       " 'comp.windows.x',\n",
       " 'misc.forsale',\n",
       " 'rec.autos',\n",
       " 'rec.motorcycles',\n",
       " 'rec.sport.baseball',\n",
       " 'rec.sport.hockey',\n",
       " 'sci.crypt',\n",
       " 'sci.electronics',\n",
       " 'sci.med',\n",
       " 'sci.space',\n",
       " 'soc.religion.christian',\n",
       " 'talk.politics.guns',\n",
       " 'talk.politics.mideast',\n",
       " 'talk.politics.misc',\n",
       " 'talk.religion.misc']"
      ]
     },
     "execution_count": 6,
     "metadata": {},
     "output_type": "execute_result"
    }
   ],
   "source": [
    "twenty_train.target_names"
   ]
  },
  {
   "cell_type": "markdown",
   "metadata": {},
   "source": [
    "# Preprocessing"
   ]
  },
  {
   "cell_type": "markdown",
   "metadata": {},
   "source": [
    "Before extract data into vector using `Bag of Words`, `TF`, ... We need to clean the text data and this process to prepare (or clean) text data before encoding is called **text preprocessing**.\n",
    "\n",
    "***There are 3 main components:***\n",
    "- Tokenization\n",
    "- Normalization\n",
    "- Noise removal\n",
    "\n",
    "Paragraphs can be tokenized into sentences and sentences can be tokenized into words, it's **Tokenization**. **Normalization** aims to put all text on a level playing field, e.g., converting all characters to lowercase. **Noise removal** cleans up the text, e.g., remove extra whitespaces.\n"
   ]
  },
  {
   "cell_type": "code",
   "execution_count": 7,
   "metadata": {},
   "outputs": [
    {
     "name": "stderr",
     "output_type": "stream",
     "text": [
      "[nltk_data] Downloading package stopwords to\n",
      "[nltk_data]     C:\\Users\\manhd\\AppData\\Roaming\\nltk_data...\n",
      "[nltk_data]   Package stopwords is already up-to-date!\n",
      "[nltk_data] Downloading package punkt to\n",
      "[nltk_data]     C:\\Users\\manhd\\AppData\\Roaming\\nltk_data...\n",
      "[nltk_data]   Package punkt is already up-to-date!\n",
      "[nltk_data] Downloading package wordnet to\n",
      "[nltk_data]     C:\\Users\\manhd\\AppData\\Roaming\\nltk_data...\n",
      "[nltk_data]   Package wordnet is already up-to-date!\n"
     ]
    },
    {
     "data": {
      "text/plain": [
       "True"
      ]
     },
     "execution_count": 7,
     "metadata": {},
     "output_type": "execute_result"
    }
   ],
   "source": [
    "import re\n",
    "import nltk\n",
    "from nltk.tokenize import word_tokenize, sent_tokenize\n",
    "from nltk.stem import WordNetLemmatizer\n",
    "from nltk.stem import PorterStemmer\n",
    "from nltk.corpus import stopwords\n",
    "nltk.download('stopwords')\n",
    "nltk.download('punkt')\n",
    "nltk.download('wordnet')"
   ]
  },
  {
   "cell_type": "markdown",
   "metadata": {},
   "source": [
    "Text preprocessing is necessary for later process. \n",
    "The main purpose off preprocessing is tranform text into a **predictable** and **analyzable** form.\n",
    "\n",
    "*However*, in the data cleaning processing, ***there're change that we will lose possible features***. In practise, ***some feature only makes sense if they are extracted to each other after cleaning***."
   ]
  },
  {
   "cell_type": "markdown",
   "metadata": {},
   "source": [
    "***Text Preprocessing conclude:*** \n",
    "- HTML tags removal\n",
    "- Extra whitespaces removal\n",
    "- Punctuation removal\n",
    "- Expand contractions\n",
    "- Special characters removal\n",
    "- Lowercase all texts\n",
    "- Convert number words to numeric form\n",
    "- Stopwords removal\n",
    "- Lemmatization\n",
    "- Stemming"
   ]
  },
  {
   "cell_type": "markdown",
   "metadata": {},
   "source": [
    "## Preprocessing helper function"
   ]
  },
  {
   "cell_type": "markdown",
   "metadata": {},
   "source": [
    "### Sentence tokenization and word tokenization"
   ]
  },
  {
   "cell_type": "code",
   "execution_count": 8,
   "metadata": {},
   "outputs": [],
   "source": [
    "#sentence seqmentation\n",
    "def sent_tokenization (text):\n",
    "    return sent_tokenize(text)\n",
    "\n",
    "#word tokenization\n",
    "def word_tokenization (text):\n",
    "    return word_tokenize(text)"
   ]
  },
  {
   "cell_type": "markdown",
   "metadata": {},
   "source": [
    "### Removal function"
   ]
  },
  {
   "cell_type": "code",
   "execution_count": 9,
   "metadata": {},
   "outputs": [],
   "source": [
    "stop_words = set(stopwords.words('english'))"
   ]
  },
  {
   "cell_type": "code",
   "execution_count": 10,
   "metadata": {},
   "outputs": [],
   "source": [
    "#removing HTML tag\n",
    "def removing_tag (text):\n",
    "    return re.sub(r'<.*?>', '', text)\n",
    "\n",
    "#removing URL\n",
    "def removing_url (text):\n",
    "    return re.sub(r'http\\S+', '', text)\n",
    "\n",
    "#removing special characters\n",
    "def removing_special_character (text):\n",
    "    return re.sub('[^a-zA-Z]', ' ', text)\n",
    "\n",
    "#remove the words having length <= 2\n",
    "def removing_length (words):\n",
    "    return [word for word in words if len(word) > 2]\n",
    "\n",
    "#removing upper case characters\n",
    "def removing_uppercase (text):\n",
    "    return str(text).lower()\n",
    "\n",
    "#removing stop words\n",
    "def removing_stop_word (words):\n",
    "    return [word for word in words if word not in stop_words]\n",
    "\n"
   ]
  },
  {
   "cell_type": "markdown",
   "metadata": {},
   "source": [
    "### Word with different cases all map to the same lowercase form"
   ]
  },
  {
   "cell_type": "code",
   "execution_count": 11,
   "metadata": {},
   "outputs": [],
   "source": [
    "#Stemming\n",
    "def steamming (words):\n",
    "    return [PorterStemmer().stem(word) for word in words]\n",
    "\n",
    "#Lemmatization\n",
    "def lenmatization (words):\n",
    "    return [WordNetLemmatizer().lemmatize(word=word, pos='v') for word in words]"
   ]
  },
  {
   "cell_type": "markdown",
   "metadata": {},
   "source": [
    "### Apply all preprocessing"
   ]
  },
  {
   "cell_type": "code",
   "execution_count": 12,
   "metadata": {},
   "outputs": [],
   "source": [
    "#apply all cleaner\n",
    "def clean (text):\n",
    "    res = removing_url(text)\n",
    "    res = removing_special_character(res)\n",
    "    res = removing_uppercase(res)\n",
    "    res = word_tokenization(res)\n",
    "    res = steamming(res)\n",
    "    res = removing_length(res)\n",
    "    res = removing_stop_word(res)\n",
    "    return ' '.join(res)"
   ]
  },
  {
   "cell_type": "markdown",
   "metadata": {},
   "source": [
    "# Analysist \"preprocessing\" process"
   ]
  },
  {
   "cell_type": "code",
   "execution_count": 13,
   "metadata": {},
   "outputs": [],
   "source": [
    "import pandas as pd\n",
    "from pprint import pprint "
   ]
  },
  {
   "cell_type": "markdown",
   "metadata": {},
   "source": [
    "Here, we are going to visualize some feature that will be removed after cleaning:"
   ]
  },
  {
   "cell_type": "code",
   "execution_count": 14,
   "metadata": {},
   "outputs": [],
   "source": [
    "stop_words = set(stopwords.words('english'))\n",
    "index = 0\n",
    "dataset_info = []\n",
    "\n",
    "for index in range(len(twenty_train.data)):\n",
    "    temp_length = 0\n",
    "    for sentence in sent_tokenize(twenty_train.data[index]):\n",
    "        temp_length = len([word for word in word_tokenize(sentence) if word in stop_words])\n",
    "    dataset_info.append([f\"dataset #{index}\", twenty_train.target[index], temp_length])"
   ]
  },
  {
   "cell_type": "code",
   "execution_count": 15,
   "metadata": {},
   "outputs": [],
   "source": [
    "index = 0\n",
    "stopwords_set = []\n",
    "\n",
    "for index in range(len(twenty_train.data)):\n",
    "    temp_length = 0\n",
    "    for sentence in sent_tokenize(twenty_train.data[index]):\n",
    "        [stopwords_set.append(word) for word in word_tokenize(sentence) if word in stop_words]"
   ]
  },
  {
   "cell_type": "code",
   "execution_count": 16,
   "metadata": {},
   "outputs": [
    {
     "name": "stdout",
     "output_type": "stream",
     "text": [
      "Number of stopword estimated in single data: 98.79167403217252\n"
     ]
    }
   ],
   "source": [
    "len(stopwords_set)\n",
    "print(f\"Number of stopword estimated in single data: {len(stopwords_set)/len(twenty_train.data)}\")"
   ]
  },
  {
   "cell_type": "code",
   "execution_count": 106,
   "metadata": {},
   "outputs": [
    {
     "data": {
      "text/html": [
       "<div>\n",
       "<style scoped>\n",
       "    .dataframe tbody tr th:only-of-type {\n",
       "        vertical-align: middle;\n",
       "    }\n",
       "\n",
       "    .dataframe tbody tr th {\n",
       "        vertical-align: top;\n",
       "    }\n",
       "\n",
       "    .dataframe thead th {\n",
       "        text-align: right;\n",
       "    }\n",
       "</style>\n",
       "<table border=\"1\" class=\"dataframe\">\n",
       "  <thead>\n",
       "    <tr style=\"text-align: right;\">\n",
       "      <th></th>\n",
       "      <th>Text</th>\n",
       "      <th>Target class</th>\n",
       "      <th>Number of Stopwords</th>\n",
       "    </tr>\n",
       "  </thead>\n",
       "  <tbody>\n",
       "    <tr>\n",
       "      <th>0</th>\n",
       "      <td>dataset #0</td>\n",
       "      <td>7</td>\n",
       "      <td>4</td>\n",
       "    </tr>\n",
       "    <tr>\n",
       "      <th>1</th>\n",
       "      <td>dataset #1</td>\n",
       "      <td>4</td>\n",
       "      <td>0</td>\n",
       "    </tr>\n",
       "    <tr>\n",
       "      <th>2</th>\n",
       "      <td>dataset #2</td>\n",
       "      <td>4</td>\n",
       "      <td>0</td>\n",
       "    </tr>\n",
       "    <tr>\n",
       "      <th>3</th>\n",
       "      <td>dataset #3</td>\n",
       "      <td>1</td>\n",
       "      <td>0</td>\n",
       "    </tr>\n",
       "    <tr>\n",
       "      <th>4</th>\n",
       "      <td>dataset #4</td>\n",
       "      <td>14</td>\n",
       "      <td>0</td>\n",
       "    </tr>\n",
       "    <tr>\n",
       "      <th>...</th>\n",
       "      <td>...</td>\n",
       "      <td>...</td>\n",
       "      <td>...</td>\n",
       "    </tr>\n",
       "    <tr>\n",
       "      <th>95</th>\n",
       "      <td>dataset #95</td>\n",
       "      <td>8</td>\n",
       "      <td>3</td>\n",
       "    </tr>\n",
       "    <tr>\n",
       "      <th>96</th>\n",
       "      <td>dataset #96</td>\n",
       "      <td>18</td>\n",
       "      <td>0</td>\n",
       "    </tr>\n",
       "    <tr>\n",
       "      <th>97</th>\n",
       "      <td>dataset #97</td>\n",
       "      <td>5</td>\n",
       "      <td>10</td>\n",
       "    </tr>\n",
       "    <tr>\n",
       "      <th>98</th>\n",
       "      <td>dataset #98</td>\n",
       "      <td>0</td>\n",
       "      <td>9</td>\n",
       "    </tr>\n",
       "    <tr>\n",
       "      <th>99</th>\n",
       "      <td>dataset #99</td>\n",
       "      <td>1</td>\n",
       "      <td>0</td>\n",
       "    </tr>\n",
       "  </tbody>\n",
       "</table>\n",
       "<p>100 rows × 3 columns</p>\n",
       "</div>"
      ],
      "text/plain": [
       "           Text  Target class  Number of Stopwords\n",
       "0    dataset #0             7                    4\n",
       "1    dataset #1             4                    0\n",
       "2    dataset #2             4                    0\n",
       "3    dataset #3             1                    0\n",
       "4    dataset #4            14                    0\n",
       "..          ...           ...                  ...\n",
       "95  dataset #95             8                    3\n",
       "96  dataset #96            18                    0\n",
       "97  dataset #97             5                   10\n",
       "98  dataset #98             0                    9\n",
       "99  dataset #99             1                    0\n",
       "\n",
       "[100 rows x 3 columns]"
      ]
     },
     "execution_count": 106,
     "metadata": {},
     "output_type": "execute_result"
    }
   ],
   "source": [
    "df = pd.DataFrame(dataset_info)\n",
    "df.columns = [\"Text\", \"Target class\", \"Number of Stopwords\"]\n",
    "df.head(100)"
   ]
  },
  {
   "cell_type": "code",
   "execution_count": 18,
   "metadata": {},
   "outputs": [
    {
     "data": {
      "text/html": [
       "<div>\n",
       "<style scoped>\n",
       "    .dataframe tbody tr th:only-of-type {\n",
       "        vertical-align: middle;\n",
       "    }\n",
       "\n",
       "    .dataframe tbody tr th {\n",
       "        vertical-align: top;\n",
       "    }\n",
       "\n",
       "    .dataframe thead th {\n",
       "        text-align: right;\n",
       "    }\n",
       "</style>\n",
       "<table border=\"1\" class=\"dataframe\">\n",
       "  <thead>\n",
       "    <tr style=\"text-align: right;\">\n",
       "      <th></th>\n",
       "      <th>Text</th>\n",
       "      <th>Target class</th>\n",
       "      <th>Number of Stopwords</th>\n",
       "    </tr>\n",
       "  </thead>\n",
       "  <tbody>\n",
       "    <tr>\n",
       "      <th>8042</th>\n",
       "      <td>dataset #8042</td>\n",
       "      <td>17</td>\n",
       "      <td>199</td>\n",
       "    </tr>\n",
       "    <tr>\n",
       "      <th>692</th>\n",
       "      <td>dataset #692</td>\n",
       "      <td>19</td>\n",
       "      <td>176</td>\n",
       "    </tr>\n",
       "    <tr>\n",
       "      <th>960</th>\n",
       "      <td>dataset #960</td>\n",
       "      <td>7</td>\n",
       "      <td>60</td>\n",
       "    </tr>\n",
       "    <tr>\n",
       "      <th>1375</th>\n",
       "      <td>dataset #1375</td>\n",
       "      <td>7</td>\n",
       "      <td>50</td>\n",
       "    </tr>\n",
       "    <tr>\n",
       "      <th>1613</th>\n",
       "      <td>dataset #1613</td>\n",
       "      <td>10</td>\n",
       "      <td>42</td>\n",
       "    </tr>\n",
       "    <tr>\n",
       "      <th>3382</th>\n",
       "      <td>dataset #3382</td>\n",
       "      <td>11</td>\n",
       "      <td>41</td>\n",
       "    </tr>\n",
       "    <tr>\n",
       "      <th>1433</th>\n",
       "      <td>dataset #1433</td>\n",
       "      <td>5</td>\n",
       "      <td>40</td>\n",
       "    </tr>\n",
       "    <tr>\n",
       "      <th>11114</th>\n",
       "      <td>dataset #11114</td>\n",
       "      <td>5</td>\n",
       "      <td>40</td>\n",
       "    </tr>\n",
       "    <tr>\n",
       "      <th>2251</th>\n",
       "      <td>dataset #2251</td>\n",
       "      <td>1</td>\n",
       "      <td>39</td>\n",
       "    </tr>\n",
       "    <tr>\n",
       "      <th>10063</th>\n",
       "      <td>dataset #10063</td>\n",
       "      <td>5</td>\n",
       "      <td>39</td>\n",
       "    </tr>\n",
       "    <tr>\n",
       "      <th>2267</th>\n",
       "      <td>dataset #2267</td>\n",
       "      <td>11</td>\n",
       "      <td>38</td>\n",
       "    </tr>\n",
       "    <tr>\n",
       "      <th>3886</th>\n",
       "      <td>dataset #3886</td>\n",
       "      <td>7</td>\n",
       "      <td>38</td>\n",
       "    </tr>\n",
       "    <tr>\n",
       "      <th>5214</th>\n",
       "      <td>dataset #5214</td>\n",
       "      <td>9</td>\n",
       "      <td>37</td>\n",
       "    </tr>\n",
       "    <tr>\n",
       "      <th>10439</th>\n",
       "      <td>dataset #10439</td>\n",
       "      <td>19</td>\n",
       "      <td>35</td>\n",
       "    </tr>\n",
       "    <tr>\n",
       "      <th>10474</th>\n",
       "      <td>dataset #10474</td>\n",
       "      <td>16</td>\n",
       "      <td>35</td>\n",
       "    </tr>\n",
       "    <tr>\n",
       "      <th>7067</th>\n",
       "      <td>dataset #7067</td>\n",
       "      <td>1</td>\n",
       "      <td>33</td>\n",
       "    </tr>\n",
       "    <tr>\n",
       "      <th>10649</th>\n",
       "      <td>dataset #10649</td>\n",
       "      <td>15</td>\n",
       "      <td>33</td>\n",
       "    </tr>\n",
       "    <tr>\n",
       "      <th>10928</th>\n",
       "      <td>dataset #10928</td>\n",
       "      <td>7</td>\n",
       "      <td>33</td>\n",
       "    </tr>\n",
       "    <tr>\n",
       "      <th>1264</th>\n",
       "      <td>dataset #1264</td>\n",
       "      <td>14</td>\n",
       "      <td>32</td>\n",
       "    </tr>\n",
       "    <tr>\n",
       "      <th>10640</th>\n",
       "      <td>dataset #10640</td>\n",
       "      <td>5</td>\n",
       "      <td>32</td>\n",
       "    </tr>\n",
       "    <tr>\n",
       "      <th>2110</th>\n",
       "      <td>dataset #2110</td>\n",
       "      <td>18</td>\n",
       "      <td>31</td>\n",
       "    </tr>\n",
       "    <tr>\n",
       "      <th>5261</th>\n",
       "      <td>dataset #5261</td>\n",
       "      <td>14</td>\n",
       "      <td>30</td>\n",
       "    </tr>\n",
       "    <tr>\n",
       "      <th>5364</th>\n",
       "      <td>dataset #5364</td>\n",
       "      <td>15</td>\n",
       "      <td>30</td>\n",
       "    </tr>\n",
       "    <tr>\n",
       "      <th>6937</th>\n",
       "      <td>dataset #6937</td>\n",
       "      <td>17</td>\n",
       "      <td>30</td>\n",
       "    </tr>\n",
       "    <tr>\n",
       "      <th>8383</th>\n",
       "      <td>dataset #8383</td>\n",
       "      <td>6</td>\n",
       "      <td>30</td>\n",
       "    </tr>\n",
       "    <tr>\n",
       "      <th>10545</th>\n",
       "      <td>dataset #10545</td>\n",
       "      <td>19</td>\n",
       "      <td>30</td>\n",
       "    </tr>\n",
       "    <tr>\n",
       "      <th>11220</th>\n",
       "      <td>dataset #11220</td>\n",
       "      <td>6</td>\n",
       "      <td>30</td>\n",
       "    </tr>\n",
       "    <tr>\n",
       "      <th>1522</th>\n",
       "      <td>dataset #1522</td>\n",
       "      <td>4</td>\n",
       "      <td>29</td>\n",
       "    </tr>\n",
       "    <tr>\n",
       "      <th>8166</th>\n",
       "      <td>dataset #8166</td>\n",
       "      <td>3</td>\n",
       "      <td>29</td>\n",
       "    </tr>\n",
       "    <tr>\n",
       "      <th>8430</th>\n",
       "      <td>dataset #8430</td>\n",
       "      <td>11</td>\n",
       "      <td>29</td>\n",
       "    </tr>\n",
       "  </tbody>\n",
       "</table>\n",
       "</div>"
      ],
      "text/plain": [
       "                 Text  Target class  Number of Stopwords\n",
       "8042    dataset #8042            17                  199\n",
       "692      dataset #692            19                  176\n",
       "960      dataset #960             7                   60\n",
       "1375    dataset #1375             7                   50\n",
       "1613    dataset #1613            10                   42\n",
       "3382    dataset #3382            11                   41\n",
       "1433    dataset #1433             5                   40\n",
       "11114  dataset #11114             5                   40\n",
       "2251    dataset #2251             1                   39\n",
       "10063  dataset #10063             5                   39\n",
       "2267    dataset #2267            11                   38\n",
       "3886    dataset #3886             7                   38\n",
       "5214    dataset #5214             9                   37\n",
       "10439  dataset #10439            19                   35\n",
       "10474  dataset #10474            16                   35\n",
       "7067    dataset #7067             1                   33\n",
       "10649  dataset #10649            15                   33\n",
       "10928  dataset #10928             7                   33\n",
       "1264    dataset #1264            14                   32\n",
       "10640  dataset #10640             5                   32\n",
       "2110    dataset #2110            18                   31\n",
       "5261    dataset #5261            14                   30\n",
       "5364    dataset #5364            15                   30\n",
       "6937    dataset #6937            17                   30\n",
       "8383    dataset #8383             6                   30\n",
       "10545  dataset #10545            19                   30\n",
       "11220  dataset #11220             6                   30\n",
       "1522    dataset #1522             4                   29\n",
       "8166    dataset #8166             3                   29\n",
       "8430    dataset #8430            11                   29"
      ]
     },
     "execution_count": 18,
     "metadata": {},
     "output_type": "execute_result"
    }
   ],
   "source": [
    "df.nlargest(30, \"Number of Stopwords\")"
   ]
  },
  {
   "cell_type": "code",
   "execution_count": 19,
   "metadata": {},
   "outputs": [
    {
     "name": "stdout",
     "output_type": "stream",
     "text": [
      "From: lerxst@wam.umd.edu (where's my thing)\n",
      "Subject: WHAT car is this!?\n",
      "Nntp-Posting-Host: rac3.wam.umd.edu\n",
      "Organization: University of Maryland, College Park\n",
      "Lines: 15\n",
      "\n",
      " I was wondering if anyone out there could enlighten me on this car I saw\n",
      "the other day. It was a 2-door sports car, looked to be from the late 60s/\n",
      "early 70s. It was called a Bricklin. The doors were really small. In addition,\n",
      "the front bumper was separate from the rest of the body. This is \n",
      "all I know. If anyone can tellme a model name, engine specs, years\n",
      "of production, where this car is made, history, or whatever info you\n",
      "have on this funky looking car, please e-mail.\n",
      "\n",
      "Thanks,\n",
      "- IL\n",
      "   ---- brought to you by your neighborhood Lerxst ----\n",
      "\n",
      "\n",
      "\n",
      "\n",
      " lerxst wam umd edu thing subject car thi nntp post host rac wam umd edu organ univers maryland colleg park line wonder anyon could enlighten thi car saw day door sport car look late earli call bricklin door realli small addit front bumper separ rest bodi thi know anyon tellm model name engin spec year product thi car made histori whatev info thi funki look car pleas mail thank brought neighborhood lerxst\n"
     ]
    }
   ],
   "source": [
    "#example\n",
    "example = twenty_train.data[0]\n",
    "after_clean = clean(example)\n",
    "print(example, after_clean)"
   ]
  },
  {
   "cell_type": "markdown",
   "metadata": {},
   "source": [
    "# Train a classifier model without preprocessing"
   ]
  },
  {
   "cell_type": "code",
   "execution_count": 20,
   "metadata": {},
   "outputs": [],
   "source": [
    "from sklearn.pipeline import Pipeline\n",
    "from sklearn.naive_bayes import MultinomialNB\n",
    "from sklearn.feature_extraction.text import CountVectorizer"
   ]
  },
  {
   "cell_type": "markdown",
   "metadata": {},
   "source": [
    "### Using Naive Bayes and BoW to classify"
   ]
  },
  {
   "cell_type": "code",
   "execution_count": 21,
   "metadata": {},
   "outputs": [],
   "source": [
    "clf = Pipeline([\n",
    "    ('vect', CountVectorizer()),\n",
    "    ('clf', MultinomialNB()),\n",
    "])"
   ]
  },
  {
   "cell_type": "code",
   "execution_count": 22,
   "metadata": {},
   "outputs": [
    {
     "data": {
      "text/plain": [
       "Pipeline(steps=[('vect', CountVectorizer()), ('clf', MultinomialNB())])"
      ]
     },
     "execution_count": 22,
     "metadata": {},
     "output_type": "execute_result"
    }
   ],
   "source": [
    "#Training the model\n",
    "clf.fit(twenty_train.data, twenty_train.target)"
   ]
  },
  {
   "cell_type": "code",
   "execution_count": 23,
   "metadata": {
    "scrolled": true
   },
   "outputs": [
    {
     "data": {
      "text/plain": [
       "0.7728359001593202"
      ]
     },
     "execution_count": 23,
     "metadata": {},
     "output_type": "execute_result"
    }
   ],
   "source": [
    "predicted = clf.predict(twenty_test.data)\n",
    "np.mean(predicted == twenty_test.target)"
   ]
  },
  {
   "cell_type": "markdown",
   "metadata": {},
   "source": [
    "# Visualize the model"
   ]
  },
  {
   "cell_type": "markdown",
   "metadata": {},
   "source": [
    "### Helper function"
   ]
  },
  {
   "cell_type": "code",
   "execution_count": 24,
   "metadata": {},
   "outputs": [],
   "source": [
    "from sklearn import metrics"
   ]
  },
  {
   "cell_type": "code",
   "execution_count": 25,
   "metadata": {},
   "outputs": [],
   "source": [
    "def draw_confusion_matrix(predicted, target=twenty_test.target, target_names = twenty_test.target_names, normalize = 'pred'):\n",
    "    cm = metrics.confusion_matrix(target, predicted, normalize = normalize)\n",
    "    df_cm = pd.DataFrame(cm, index = [i for i in target_names], columns = target_names)\n",
    "    plt.figure(figsize = (20,10))\n",
    "    sns.heatmap(df_cm, annot=True, fmt = \".2f\")\n",
    "    plt.title(\"Naive Bayes\")\n",
    "    plt.xlabel(\"Predicted Label\")\n",
    "    plt.ylabel(\"True label\")\n",
    "    plt.show()"
   ]
  },
  {
   "cell_type": "code",
   "execution_count": 26,
   "metadata": {},
   "outputs": [],
   "source": [
    "def print_top_word(pipeline):\n",
    "    clf = pipeline.named_steps.clf\n",
    "    vectorizer = pipeline.named_steps.vect\n",
    "    feature_names = vectorizer.get_feature_names()\n",
    "    \n",
    "    if hasattr(clf, 'coef_'):\n",
    "        print(\"Top 20 keywords per class \\n\")\n",
    "        for (i, label) in enumerate(twenty_train.target_names):\n",
    "            top_words = np.argsort(clf.coef_[i])[-20:]\n",
    "            print(\"\\x1b[1;31m%s:\\x1b[0m %s\" % (label, \", \".join([feature_names[idx] for idx in top_words])))\n",
    "        print('-' * 80)\n",
    "    \n",
    "    print('=' * 80)\n",
    "    \n",
    "def top_word_list(pipeline):\n",
    "    clf = pipeline.named_steps.clf\n",
    "    vectorizer = pipeline.named_steps.vect\n",
    "    feature_names = vectorizer.get_feature_names()\n",
    "    \n",
    "    lst = []\n",
    "    if hasattr(clf, 'coef_'):\n",
    "        for (i, label) in enumerate(twenty_train.target_names):\n",
    "            top_words = np.argsort(clf.coef_[i])[-30:]\n",
    "            for idx in top_words:\n",
    "                lst.append(feature_names[idx])\n",
    "    \n",
    "    res = []\n",
    "    check_list = []\n",
    "    length = len(lst)\n",
    "    for word in lst:\n",
    "        if word not in check_list:\n",
    "            check_list.append(word)\n",
    "            res.append([word, lst.count(word)/length])\n",
    "            \n",
    "    return res\n",
    "    "
   ]
  },
  {
   "cell_type": "code",
   "execution_count": 27,
   "metadata": {},
   "outputs": [],
   "source": [
    "def print_model(predicted, target=twenty_test.target, target_names=twenty_test.target_names):\n",
    "    print(metrics.classification_report(target, predicted,\n",
    "            target_names=target_names))"
   ]
  },
  {
   "cell_type": "markdown",
   "metadata": {},
   "source": [
    "### Visualize"
   ]
  },
  {
   "cell_type": "code",
   "execution_count": 28,
   "metadata": {
    "scrolled": false
   },
   "outputs": [
    {
     "name": "stdout",
     "output_type": "stream",
     "text": [
      "                          precision    recall  f1-score   support\n",
      "\n",
      "             alt.atheism       0.79      0.77      0.78       319\n",
      "           comp.graphics       0.67      0.74      0.70       389\n",
      " comp.os.ms-windows.misc       0.20      0.00      0.01       394\n",
      "comp.sys.ibm.pc.hardware       0.56      0.77      0.65       392\n",
      "   comp.sys.mac.hardware       0.84      0.75      0.79       385\n",
      "          comp.windows.x       0.65      0.84      0.73       395\n",
      "            misc.forsale       0.93      0.65      0.77       390\n",
      "               rec.autos       0.87      0.91      0.89       396\n",
      "         rec.motorcycles       0.96      0.92      0.94       398\n",
      "      rec.sport.baseball       0.96      0.87      0.91       397\n",
      "        rec.sport.hockey       0.93      0.96      0.95       399\n",
      "               sci.crypt       0.67      0.95      0.78       396\n",
      "         sci.electronics       0.79      0.66      0.72       393\n",
      "                 sci.med       0.87      0.82      0.85       396\n",
      "               sci.space       0.83      0.89      0.86       394\n",
      "  soc.religion.christian       0.70      0.96      0.81       398\n",
      "      talk.politics.guns       0.69      0.91      0.79       364\n",
      "   talk.politics.mideast       0.85      0.94      0.89       376\n",
      "      talk.politics.misc       0.58      0.63      0.60       310\n",
      "      talk.religion.misc       0.89      0.33      0.49       251\n",
      "\n",
      "                accuracy                           0.77      7532\n",
      "               macro avg       0.76      0.76      0.75      7532\n",
      "            weighted avg       0.76      0.77      0.75      7532\n",
      "\n"
     ]
    }
   ],
   "source": [
    "print_model(predicted)"
   ]
  },
  {
   "cell_type": "code",
   "execution_count": 29,
   "metadata": {},
   "outputs": [
    {
     "data": {
      "image/png": "[encoded data removed]",
      "text/plain": [
       "<Figure size 1440x720 with 2 Axes>"
      ]
     },
     "metadata": {
      "needs_background": "light"
     },
     "output_type": "display_data"
    }
   ],
   "source": [
    "draw_confusion_matrix(predicted)"
   ]
  },
  {
   "cell_type": "code",
   "execution_count": 30,
   "metadata": {},
   "outputs": [
    {
     "name": "stdout",
     "output_type": "stream",
     "text": [
      "Top 20 keywords per class \n",
      "\n",
      "\u001b[1;31malt.atheism:\u001b[0m or, but, as, from, have, for, edu, this, are, be, not, you, it, in, and, that, is, to, of, the\n",
      "\u001b[1;31mcomp.graphics:\u001b[0m can, lines, have, with, be, or, this, on, that, edu, you, from, it, for, in, is, and, of, to, the\n",
      "\u001b[1;31mcomp.os.ms-windows.misc:\u001b[0m pl, you, 145, from, that, a86, edu, for, windows, b8f, g9v, in, it, is, and, of, to, the, max, ax\n",
      "\u001b[1;31mcomp.sys.ibm.pc.hardware:\u001b[0m com, or, drive, scsi, this, have, you, edu, on, from, with, that, for, in, it, is, of, and, to, the\n",
      "\u001b[1;31mcomp.sys.mac.hardware:\u001b[0m organization, be, subject, lines, this, have, you, on, with, from, that, edu, for, it, in, is, of, and, to, the\n",
      "\u001b[1;31mcomp.windows.x:\u001b[0m com, or, if, edu, are, with, be, you, this, from, that, on, it, for, in, is, and, of, to, the\n",
      "\u001b[1;31mmisc.forsale:\u001b[0m are, have, with, or, sale, organization, it, you, lines, subject, is, 00, from, in, edu, of, to, and, for, the\n",
      "\u001b[1;31mrec.autos:\u001b[0m my, with, this, are, car, com, have, from, edu, on, for, you, that, is, it, in, of, and, to, the\n",
      "\u001b[1;31mrec.motorcycles:\u001b[0m subject, was, this, with, re, edu, my, from, com, on, for, that, you, is, it, in, of, and, to, the\n",
      "\u001b[1;31mrec.sport.baseball:\u001b[0m they, was, but, be, on, this, you, have, from, it, for, he, that, is, edu, of, and, in, to, the\n",
      "\u001b[1;31mrec.sport.hockey:\u001b[0m this, at, but, be, have, you, he, was, from, edu, on, it, for, is, that, and, of, in, to, the\n",
      "\u001b[1;31msci.crypt:\u001b[0m or, not, with, as, key, are, you, from, on, this, be, for, it, that, in, is, and, of, to, the\n",
      "\u001b[1;31msci.electronics:\u001b[0m subject, have, or, with, this, be, are, on, edu, from, that, you, for, it, in, is, and, of, to, the\n",
      "\u001b[1;31msci.med:\u001b[0m as, or, have, with, not, be, are, you, from, this, edu, for, it, that, is, in, and, to, of, the\n",
      "\u001b[1;31msci.space:\u001b[0m at, was, as, are, this, you, be, edu, from, on, space, it, for, that, is, in, and, to, of, the\n",
      "\u001b[1;31msoc.religion.christian:\u001b[0m but, from, we, have, god, as, for, are, be, this, you, not, it, in, is, that, and, to, of, the\n",
      "\u001b[1;31mtalk.politics.guns:\u001b[0m as, on, not, they, be, are, from, have, edu, this, for, it, you, is, that, in, and, of, to, the\n",
      "\u001b[1;31mtalk.politics.mideast:\u001b[0m with, as, by, were, are, on, not, from, for, was, they, you, it, is, that, in, and, to, of, the\n",
      "\u001b[1;31mtalk.politics.misc:\u001b[0m was, from, as, we, be, have, are, this, on, not, for, you, it, is, in, that, and, of, to, the\n",
      "\u001b[1;31mtalk.religion.misc:\u001b[0m on, edu, with, have, from, as, be, this, are, for, not, it, you, is, in, that, and, to, of, the\n",
      "--------------------------------------------------------------------------------\n",
      "================================================================================\n"
     ]
    }
   ],
   "source": [
    "print_top_word(clf)"
   ]
  },
  {
   "cell_type": "markdown",
   "metadata": {},
   "source": [
    "### Preprocessing before training model"
   ]
  },
  {
   "cell_type": "code",
   "execution_count": 31,
   "metadata": {},
   "outputs": [],
   "source": [
    "preprocess_data = [clean(data) for data in twenty_train.data]"
   ]
  },
  {
   "cell_type": "code",
   "execution_count": 32,
   "metadata": {},
   "outputs": [
    {
     "data": {
      "text/plain": [
       "Pipeline(steps=[('vect', CountVectorizer()), ('clf', MultinomialNB())])"
      ]
     },
     "execution_count": 32,
     "metadata": {},
     "output_type": "execute_result"
    }
   ],
   "source": [
    "clf.fit(preprocess_data, twenty_train.target)"
   ]
  },
  {
   "cell_type": "code",
   "execution_count": 33,
   "metadata": {},
   "outputs": [
    {
     "data": {
      "text/plain": [
       "0.7725703664365374"
      ]
     },
     "execution_count": 33,
     "metadata": {},
     "output_type": "execute_result"
    }
   ],
   "source": [
    "predicted = clf.predict(twenty_test.data)\n",
    "np.mean(predicted == twenty_test.target)"
   ]
  },
  {
   "cell_type": "code",
   "execution_count": 34,
   "metadata": {},
   "outputs": [
    {
     "name": "stdout",
     "output_type": "stream",
     "text": [
      "Top 20 keywords per class \n",
      "\n",
      "\u001b[1;31malt.atheism:\u001b[0m ani, believ, islam, moral, articl, think, atheist, post, organ, would, say, line, com, subject, peopl, write, one, god, edu, thi\n",
      "\u001b[1;31mcomp.graphics:\u001b[0m jpeg, format, color, would, comput, write, univers, ani, program, com, post, file, organ, use, subject, graphic, line, thi, imag, edu\n",
      "\u001b[1;31mcomp.os.ms-windows.misc:\u001b[0m run, articl, post, problem, write, ani, univers, driver, giz, bhj, com, organ, subject, thi, file, line, use, edu, window, max\n",
      "\u001b[1;31mcomp.sys.ibm.pc.hardware:\u001b[0m univers, problem, post, disk, ide, get, one, ani, control, system, card, organ, subject, line, use, com, scsi, thi, edu, drive\n",
      "\u001b[1;31mcomp.sys.mac.hardware:\u001b[0m ani, would, host, nntp, univers, get, write, one, com, drive, problem, post, appl, use, organ, subject, mac, line, thi, edu\n",
      "\u001b[1;31mcomp.windows.x:\u001b[0m applic, run, post, ani, mit, motif, get, server, entri, widget, organ, program, subject, file, com, line, edu, window, use, thi\n",
      "\u001b[1;31mmisc.forsale:\u001b[0m comput, ship, price, mail, distribut, includ, nntp, host, offer, use, univers, thi, new, post, com, sale, organ, subject, line, edu\n",
      "\u001b[1;31mrec.autos:\u001b[0m nntp, good, host, engin, use, like, one, post, ani, get, would, write, articl, organ, subject, line, thi, com, edu, car\n",
      "\u001b[1;31mrec.motorcycles:\u001b[0m would, nntp, ani, host, motorcycl, get, like, ride, one, post, dod, write, articl, subject, organ, thi, line, bike, edu, com\n",
      "\u001b[1;31mrec.sport.baseball:\u001b[0m hit, like, think, win, basebal, one, post, player, run, team, com, articl, write, game, organ, subject, year, line, thi, edu\n",
      "\u001b[1;31mrec.sport.hockey:\u001b[0m one, get, win, post, season, write, nhl, univers, would, year, player, organ, subject, hockey, line, thi, play, game, team, edu\n",
      "\u001b[1;31msci.crypt:\u001b[0m peopl, ani, write, post, govern, organ, subject, system, one, would, line, secur, clipper, chip, edu, com, encrypt, use, key, thi\n",
      "\u001b[1;31msci.electronics:\u001b[0m work, host, articl, get, like, univers, write, ground, post, ani, would, wire, one, com, organ, subject, thi, use, line, edu\n",
      "\u001b[1;31msci.med:\u001b[0m know, univers, peopl, food, pitt, like, post, get, would, ani, write, articl, use, one, line, subject, organ, com, thi, edu\n",
      "\u001b[1;31msci.space:\u001b[0m univers, gov, like, year, one, use, articl, launch, write, post, com, orbit, would, subject, organ, line, nasa, thi, edu, space\n",
      "\u001b[1;31msoc.religion.christian:\u001b[0m doe, onli, ani, write, church, know, think, organ, believ, jesu, say, line, peopl, subject, would, one, christian, edu, god, thi\n",
      "\u001b[1;31mtalk.politics.guns:\u001b[0m law, post, firearm, state, like, weapon, right, articl, use, one, write, subject, organ, line, peopl, would, com, edu, thi, gun\n",
      "\u001b[1;31mtalk.politics.mideast:\u001b[0m know, right, arab, articl, said, organ, say, line, write, jew, subject, would, turkish, isra, one, israel, peopl, edu, thi, armenian\n",
      "\u001b[1;31mtalk.politics.misc:\u001b[0m get, like, ani, know, make, govern, presid, subject, think, one, state, organ, line, articl, write, peopl, would, com, edu, thi\n",
      "\u001b[1;31mtalk.religion.misc:\u001b[0m ani, think, know, moral, post, articl, say, would, jesu, write, peopl, organ, line, subject, one, christian, god, com, edu, thi\n",
      "--------------------------------------------------------------------------------\n",
      "================================================================================\n"
     ]
    }
   ],
   "source": [
    "print_top_word(clf)"
   ]
  },
  {
   "cell_type": "markdown",
   "metadata": {},
   "source": [
    "### Advanced normalization"
   ]
  },
  {
   "cell_type": "markdown",
   "metadata": {},
   "source": [
    "At here, we are looking for the word in top 30 key word to classify. Many of them are repeated, so it means the word is nonsense, or it can be say that the word is noise text.\n",
    "\n",
    "To remove it, let pop 30 most appearance word by these function"
   ]
  },
  {
   "cell_type": "code",
   "execution_count": 35,
   "metadata": {
    "scrolled": false
   },
   "outputs": [],
   "source": [
    "top_words = top_word_list(clf)"
   ]
  },
  {
   "cell_type": "code",
   "execution_count": 36,
   "metadata": {},
   "outputs": [
    {
     "data": {
      "text/html": [
       "<div>\n",
       "<style scoped>\n",
       "    .dataframe tbody tr th:only-of-type {\n",
       "        vertical-align: middle;\n",
       "    }\n",
       "\n",
       "    .dataframe tbody tr th {\n",
       "        vertical-align: top;\n",
       "    }\n",
       "\n",
       "    .dataframe thead th {\n",
       "        text-align: right;\n",
       "    }\n",
       "</style>\n",
       "<table border=\"1\" class=\"dataframe\">\n",
       "  <thead>\n",
       "    <tr style=\"text-align: right;\">\n",
       "      <th></th>\n",
       "      <th>word</th>\n",
       "      <th>probability</th>\n",
       "    </tr>\n",
       "  </thead>\n",
       "  <tbody>\n",
       "    <tr>\n",
       "      <th>18</th>\n",
       "      <td>organ</td>\n",
       "      <td>0.033333</td>\n",
       "    </tr>\n",
       "    <tr>\n",
       "      <th>21</th>\n",
       "      <td>line</td>\n",
       "      <td>0.033333</td>\n",
       "    </tr>\n",
       "    <tr>\n",
       "      <th>23</th>\n",
       "      <td>subject</td>\n",
       "      <td>0.033333</td>\n",
       "    </tr>\n",
       "    <tr>\n",
       "      <th>28</th>\n",
       "      <td>edu</td>\n",
       "      <td>0.033333</td>\n",
       "    </tr>\n",
       "    <tr>\n",
       "      <th>29</th>\n",
       "      <td>thi</td>\n",
       "      <td>0.033333</td>\n",
       "    </tr>\n",
       "    <tr>\n",
       "      <th>17</th>\n",
       "      <td>post</td>\n",
       "      <td>0.031667</td>\n",
       "    </tr>\n",
       "    <tr>\n",
       "      <th>25</th>\n",
       "      <td>write</td>\n",
       "      <td>0.031667</td>\n",
       "    </tr>\n",
       "    <tr>\n",
       "      <th>26</th>\n",
       "      <td>one</td>\n",
       "      <td>0.031667</td>\n",
       "    </tr>\n",
       "    <tr>\n",
       "      <th>22</th>\n",
       "      <td>com</td>\n",
       "      <td>0.030000</td>\n",
       "    </tr>\n",
       "    <tr>\n",
       "      <th>7</th>\n",
       "      <td>like</td>\n",
       "      <td>0.028333</td>\n",
       "    </tr>\n",
       "    <tr>\n",
       "      <th>19</th>\n",
       "      <td>would</td>\n",
       "      <td>0.028333</td>\n",
       "    </tr>\n",
       "    <tr>\n",
       "      <th>10</th>\n",
       "      <td>ani</td>\n",
       "      <td>0.026667</td>\n",
       "    </tr>\n",
       "    <tr>\n",
       "      <th>14</th>\n",
       "      <td>articl</td>\n",
       "      <td>0.025000</td>\n",
       "    </tr>\n",
       "    <tr>\n",
       "      <th>45</th>\n",
       "      <td>use</td>\n",
       "      <td>0.025000</td>\n",
       "    </tr>\n",
       "    <tr>\n",
       "      <th>48</th>\n",
       "      <td>get</td>\n",
       "      <td>0.023333</td>\n",
       "    </tr>\n",
       "    <tr>\n",
       "      <th>42</th>\n",
       "      <td>univers</td>\n",
       "      <td>0.021667</td>\n",
       "    </tr>\n",
       "    <tr>\n",
       "      <th>4</th>\n",
       "      <td>know</td>\n",
       "      <td>0.020000</td>\n",
       "    </tr>\n",
       "    <tr>\n",
       "      <th>37</th>\n",
       "      <td>host</td>\n",
       "      <td>0.018333</td>\n",
       "    </tr>\n",
       "    <tr>\n",
       "      <th>99</th>\n",
       "      <td>time</td>\n",
       "      <td>0.018333</td>\n",
       "    </tr>\n",
       "    <tr>\n",
       "      <th>15</th>\n",
       "      <td>think</td>\n",
       "      <td>0.016667</td>\n",
       "    </tr>\n",
       "    <tr>\n",
       "      <th>34</th>\n",
       "      <td>nntp</td>\n",
       "      <td>0.015000</td>\n",
       "    </tr>\n",
       "    <tr>\n",
       "      <th>0</th>\n",
       "      <td>onli</td>\n",
       "      <td>0.013333</td>\n",
       "    </tr>\n",
       "    <tr>\n",
       "      <th>24</th>\n",
       "      <td>peopl</td>\n",
       "      <td>0.013333</td>\n",
       "    </tr>\n",
       "    <tr>\n",
       "      <th>36</th>\n",
       "      <td>system</td>\n",
       "      <td>0.013333</td>\n",
       "    </tr>\n",
       "    <tr>\n",
       "      <th>5</th>\n",
       "      <td>doe</td>\n",
       "      <td>0.010000</td>\n",
       "    </tr>\n",
       "    <tr>\n",
       "      <th>83</th>\n",
       "      <td>good</td>\n",
       "      <td>0.010000</td>\n",
       "    </tr>\n",
       "  </tbody>\n",
       "</table>\n",
       "</div>"
      ],
      "text/plain": [
       "       word  probability\n",
       "18    organ     0.033333\n",
       "21     line     0.033333\n",
       "23  subject     0.033333\n",
       "28      edu     0.033333\n",
       "29      thi     0.033333\n",
       "17     post     0.031667\n",
       "25    write     0.031667\n",
       "26      one     0.031667\n",
       "22      com     0.030000\n",
       "7      like     0.028333\n",
       "19    would     0.028333\n",
       "10      ani     0.026667\n",
       "14   articl     0.025000\n",
       "45      use     0.025000\n",
       "48      get     0.023333\n",
       "42  univers     0.021667\n",
       "4      know     0.020000\n",
       "37     host     0.018333\n",
       "99     time     0.018333\n",
       "15    think     0.016667\n",
       "34     nntp     0.015000\n",
       "0      onli     0.013333\n",
       "24    peopl     0.013333\n",
       "36   system     0.013333\n",
       "5       doe     0.010000\n",
       "83     good     0.010000"
      ]
     },
     "execution_count": 36,
     "metadata": {},
     "output_type": "execute_result"
    }
   ],
   "source": [
    "word_df = pd.DataFrame(top_words, columns=['word', 'probability'])\n",
    "word_df.nlargest(26, 'probability')"
   ]
  },
  {
   "cell_type": "markdown",
   "metadata": {},
   "source": [
    "Adding those new words into stop_words and preprocess again!"
   ]
  },
  {
   "cell_type": "code",
   "execution_count": 37,
   "metadata": {},
   "outputs": [],
   "source": [
    "top_words.sort(key=lambda x: x[1])"
   ]
  },
  {
   "cell_type": "code",
   "execution_count": 38,
   "metadata": {
    "scrolled": true
   },
   "outputs": [
    {
     "name": "stdout",
     "output_type": "stream",
     "text": [
      "[['doe', 0.01],\n",
      " ['good', 0.01],\n",
      " ['onli', 0.013333333333333334],\n",
      " ['peopl', 0.013333333333333334],\n",
      " ['system', 0.013333333333333334],\n",
      " ['nntp', 0.015],\n",
      " ['think', 0.016666666666666666],\n",
      " ['host', 0.018333333333333333],\n",
      " ['time', 0.018333333333333333],\n",
      " ['know', 0.02],\n",
      " ['univers', 0.021666666666666667],\n",
      " ['get', 0.023333333333333334],\n",
      " ['articl', 0.025],\n",
      " ['use', 0.025],\n",
      " ['ani', 0.02666666666666667],\n",
      " ['like', 0.028333333333333332],\n",
      " ['would', 0.028333333333333332],\n",
      " ['com', 0.03],\n",
      " ['post', 0.03166666666666667],\n",
      " ['write', 0.03166666666666667],\n",
      " ['one', 0.03166666666666667],\n",
      " ['organ', 0.03333333333333333],\n",
      " ['line', 0.03333333333333333],\n",
      " ['subject', 0.03333333333333333],\n",
      " ['edu', 0.03333333333333333],\n",
      " ['thi', 0.03333333333333333]]\n"
     ]
    }
   ],
   "source": [
    "non_sense_word = top_words[-26:]\n",
    "pprint(non_sense_word)"
   ]
  },
  {
   "cell_type": "code",
   "execution_count": 39,
   "metadata": {
    "scrolled": true
   },
   "outputs": [
    {
     "name": "stdout",
     "output_type": "stream",
     "text": [
      "'doe'\n",
      "'good'\n",
      "'onli'\n",
      "'peopl'\n",
      "'system'\n",
      "'nntp'\n",
      "'think'\n",
      "'host'\n",
      "'time'\n",
      "'know'\n",
      "'univers'\n",
      "'get'\n",
      "'articl'\n",
      "'use'\n",
      "'ani'\n",
      "'like'\n",
      "'would'\n",
      "'com'\n",
      "'post'\n",
      "'write'\n",
      "'one'\n",
      "'organ'\n",
      "'line'\n",
      "'subject'\n",
      "'edu'\n",
      "'thi'\n"
     ]
    }
   ],
   "source": [
    "for word in non_sense_word:\n",
    "    pprint(word[0])\n",
    "    stop_words.update([word[0]])"
   ]
  },
  {
   "cell_type": "markdown",
   "metadata": {},
   "source": [
    "### After add non-information word to stop_word"
   ]
  },
  {
   "cell_type": "code",
   "execution_count": 40,
   "metadata": {},
   "outputs": [],
   "source": [
    "preprocess_data = [clean(data) for data in twenty_train.data]"
   ]
  },
  {
   "cell_type": "code",
   "execution_count": 41,
   "metadata": {},
   "outputs": [
    {
     "data": {
      "text/plain": [
       "Pipeline(steps=[('vect', CountVectorizer()), ('clf', MultinomialNB())])"
      ]
     },
     "execution_count": 41,
     "metadata": {},
     "output_type": "execute_result"
    }
   ],
   "source": [
    "clf.fit(preprocess_data, twenty_train.target)"
   ]
  },
  {
   "cell_type": "code",
   "execution_count": 42,
   "metadata": {},
   "outputs": [
    {
     "data": {
      "text/plain": [
       "0.774429102496017"
      ]
     },
     "execution_count": 42,
     "metadata": {},
     "output_type": "execute_result"
    }
   ],
   "source": [
    "predicted = clf.predict(twenty_test.data)\n",
    "np.mean(predicted == twenty_test.target)"
   ]
  },
  {
   "cell_type": "code",
   "execution_count": 43,
   "metadata": {
    "scrolled": false
   },
   "outputs": [
    {
     "name": "stdout",
     "output_type": "stream",
     "text": [
      "                          precision    recall  f1-score   support\n",
      "\n",
      "             alt.atheism       0.80      0.76      0.78       319\n",
      "           comp.graphics       0.65      0.69      0.67       389\n",
      " comp.os.ms-windows.misc       0.87      0.30      0.44       394\n",
      "comp.sys.ibm.pc.hardware       0.54      0.76      0.63       392\n",
      "   comp.sys.mac.hardware       0.73      0.71      0.72       385\n",
      "          comp.windows.x       0.75      0.76      0.76       395\n",
      "            misc.forsale       0.85      0.66      0.74       390\n",
      "               rec.autos       0.83      0.89      0.86       396\n",
      "         rec.motorcycles       0.89      0.94      0.91       398\n",
      "      rec.sport.baseball       0.88      0.88      0.88       397\n",
      "        rec.sport.hockey       0.87      0.96      0.91       399\n",
      "               sci.crypt       0.79      0.91      0.85       396\n",
      "         sci.electronics       0.76      0.61      0.68       393\n",
      "                 sci.med       0.85      0.75      0.80       396\n",
      "               sci.space       0.79      0.92      0.85       394\n",
      "  soc.religion.christian       0.77      0.92      0.84       398\n",
      "      talk.politics.guns       0.69      0.91      0.78       364\n",
      "   talk.politics.mideast       0.92      0.90      0.91       376\n",
      "      talk.politics.misc       0.65      0.60      0.62       310\n",
      "      talk.religion.misc       0.78      0.52      0.63       251\n",
      "\n",
      "                accuracy                           0.77      7532\n",
      "               macro avg       0.78      0.77      0.76      7532\n",
      "            weighted avg       0.78      0.77      0.77      7532\n",
      "\n"
     ]
    }
   ],
   "source": [
    "print_model(predicted)"
   ]
  },
  {
   "cell_type": "code",
   "execution_count": 44,
   "metadata": {
    "scrolled": false
   },
   "outputs": [
    {
     "name": "stdout",
     "output_type": "stream",
     "text": [
      "Top 20 keywords per class \n",
      "\n",
      "\u001b[1;31malt.atheism:\u001b[0m even, argument, see, mean, whi, mani, becaus, religion, christian, atheism, make, thing, keith, exist, believ, islam, moral, atheist, say, god\n",
      "\u001b[1;31mcomp.graphics:\u001b[0m gif, mail, thank, packag, data, look, version, softwar, also, point, bit, need, jpeg, format, color, comput, program, file, graphic, imag\n",
      "\u001b[1;31mcomp.os.ms-windows.misc:\u001b[0m version, thank, help, scx, work, qax, rlk, bxn, card, win, chz, program, run, problem, driver, giz, bhj, file, window, max\n",
      "\u001b[1;31mcomp.sys.ibm.pc.hardware:\u001b[0m monitor, run, driver, window, set, help, need, also, bit, thank, comput, hard, work, problem, disk, ide, control, card, scsi, drive\n",
      "\u001b[1;31mcomp.sys.mac.hardware:\u001b[0m memori, color, machin, speed, anyon, need, thank, quadra, new, scsi, bit, simm, monitor, comput, card, work, drive, problem, appl, mac\n",
      "\u001b[1;31mcomp.windows.x:\u001b[0m also, version, avail, problem, work, includ, sun, set, output, display, applic, run, mit, motif, server, entri, widget, program, file, window\n",
      "\u001b[1;31mmisc.forsale:\u001b[0m card, state, disk, condit, interest, usa, drive, ask, sell, game, pleas, ship, comput, price, mail, distribut, includ, offer, new, sale\n",
      "\u001b[1;31mrec.autos:\u001b[0m usa, dealer, thing, price, may, speed, auto, want, veri, make, also, distribut, much, new, apr, year, look, drive, engin, car\n",
      "\u001b[1;31mrec.motorcycles:\u001b[0m take, distribut, want, back, say, right, sun, bmw, helmet, new, rider, well, look, make, dog, apr, motorcycl, ride, dod, bike\n",
      "\u001b[1;31mrec.sport.baseball:\u001b[0m say, look, score, first, fan, better, well, season, apr, play, pitch, last, hit, win, basebal, player, run, team, game, year\n",
      "\u001b[1;31mrec.sport.hockey:\u001b[0m toronto, cup, leaf, leagu, period, score, point, first, new, playoff, goal, win, season, nhl, year, player, hockey, play, game, team\n",
      "\u001b[1;31msci.crypt:\u001b[0m algorithm, could, messag, may, phone, comput, anonym, right, inform, law, escrow, privaci, public, bit, govern, secur, clipper, chip, encrypt, key\n",
      "\u001b[1;31msci.electronics:\u001b[0m thing, question, electron, run, comput, help, make, chip, could, current, also, anyon, look, want, power, circuit, need, work, ground, wire\n",
      "\u001b[1;31msci.med:\u001b[0m new, research, work, effect, caus, problem, doctor, geb, health, year, patient, gordon, bank, diseas, also, medic, scienc, msg, food, pitt\n",
      "\u001b[1;31msci.space:\u001b[0m lunar, henri, program, shuttl, data, mission, work, access, first, also, earth, moon, apr, satellit, gov, year, launch, orbit, nasa, space\n",
      "\u001b[1;31msoc.religion.christian:\u001b[0m mean, truth, see, come, exist, also, thing, may, bibl, whi, faith, christ, becaus, question, church, believ, jesu, say, christian, god\n",
      "\u001b[1;31mtalk.politics.guns:\u001b[0m kill, fbi, bill, handgun, thing, arm, crime, say, well, govern, control, file, fire, make, law, firearm, state, weapon, right, gun\n",
      "\u001b[1;31mtalk.politics.mideast:\u001b[0m even, year, way, live, apr, turk, armenia, govern, becaus, state, kill, right, arab, said, say, jew, turkish, isra, israel, armenian\n",
      "\u001b[1;31mtalk.politics.misc:\u001b[0m clinton, apr, job, well, way, becaus, law, year, whi, tax, want, right, stephanopoulo, new, work, say, make, govern, presid, state\n",
      "\u001b[1;31mtalk.religion.misc:\u001b[0m also, mani, life, word, point, may, way, whi, becaus, even, sandvik, see, mean, bibl, believ, moral, say, jesu, christian, god\n",
      "--------------------------------------------------------------------------------\n",
      "================================================================================\n"
     ]
    }
   ],
   "source": [
    "print_top_word(clf)"
   ]
  },
  {
   "cell_type": "code",
   "execution_count": 45,
   "metadata": {},
   "outputs": [
    {
     "data": {
      "image/png": "[encoded data removed]",
      "text/plain": [
       "<Figure size 1440x720 with 2 Axes>"
      ]
     },
     "metadata": {
      "needs_background": "light"
     },
     "output_type": "display_data"
    }
   ],
   "source": [
    "draw_confusion_matrix(predicted)"
   ]
  },
  {
   "cell_type": "markdown",
   "metadata": {},
   "source": [
    "## LinearSVC model"
   ]
  },
  {
   "cell_type": "code",
   "execution_count": 46,
   "metadata": {},
   "outputs": [],
   "source": [
    "from sklearn.svm import LinearSVC"
   ]
  },
  {
   "cell_type": "code",
   "execution_count": 75,
   "metadata": {},
   "outputs": [],
   "source": [
    "SVC_clf = Pipeline([\n",
    "    ('vect', CountVectorizer()),\n",
    "    ('clf', LinearSVC(random_state=0, tol=1e-3)),\n",
    "])"
   ]
  },
  {
   "cell_type": "code",
   "execution_count": 81,
   "metadata": {},
   "outputs": [
    {
     "data": {
      "text/plain": [
       "Pipeline(steps=[('vect', CountVectorizer()),\n",
       "                ('clf', LinearSVC(random_state=0, tol=0.001))])"
      ]
     },
     "execution_count": 81,
     "metadata": {},
     "output_type": "execute_result"
    }
   ],
   "source": [
    "SVC_clf.fit(preprocess_data, twenty_train.target)"
   ]
  },
  {
   "cell_type": "code",
   "execution_count": 82,
   "metadata": {},
   "outputs": [
    {
     "data": {
      "text/plain": [
       "0.6821561338289963"
      ]
     },
     "execution_count": 82,
     "metadata": {},
     "output_type": "execute_result"
    }
   ],
   "source": [
    "predicted = SVC_clf.predict(twenty_test.data)\n",
    "np.mean(predicted == twenty_test.target)"
   ]
  },
  {
   "cell_type": "code",
   "execution_count": 83,
   "metadata": {
    "scrolled": false
   },
   "outputs": [
    {
     "name": "stdout",
     "output_type": "stream",
     "text": [
      "                          precision    recall  f1-score   support\n",
      "\n",
      "             alt.atheism       0.67      0.68      0.67       319\n",
      "           comp.graphics       0.49      0.50      0.50       389\n",
      " comp.os.ms-windows.misc       0.60      0.41      0.49       394\n",
      "comp.sys.ibm.pc.hardware       0.50      0.64      0.56       392\n",
      "   comp.sys.mac.hardware       0.55      0.64      0.59       385\n",
      "          comp.windows.x       0.73      0.61      0.66       395\n",
      "            misc.forsale       0.63      0.70      0.66       390\n",
      "               rec.autos       0.69      0.78      0.73       396\n",
      "         rec.motorcycles       0.80      0.88      0.84       398\n",
      "      rec.sport.baseball       0.68      0.76      0.72       397\n",
      "        rec.sport.hockey       0.83      0.91      0.86       399\n",
      "               sci.crypt       0.88      0.82      0.85       396\n",
      "         sci.electronics       0.55      0.55      0.55       393\n",
      "                 sci.med       0.79      0.61      0.69       396\n",
      "               sci.space       0.84      0.84      0.84       394\n",
      "  soc.religion.christian       0.72      0.76      0.74       398\n",
      "      talk.politics.guns       0.70      0.74      0.72       364\n",
      "   talk.politics.mideast       0.90      0.73      0.81       376\n",
      "      talk.politics.misc       0.65      0.44      0.52       310\n",
      "      talk.religion.misc       0.49      0.55      0.52       251\n",
      "\n",
      "                accuracy                           0.68      7532\n",
      "               macro avg       0.68      0.68      0.68      7532\n",
      "            weighted avg       0.69      0.68      0.68      7532\n",
      "\n"
     ]
    }
   ],
   "source": [
    "print_model(predicted)"
   ]
  },
  {
   "cell_type": "code",
   "execution_count": 84,
   "metadata": {
    "scrolled": false
   },
   "outputs": [
    {
     "name": "stdout",
     "output_type": "stream",
     "text": [
      "Top 20 keywords per class \n",
      "\n",
      "\u001b[1;31malt.atheism:\u001b[0m kmr, wwc, sole, islam, scout, lunat, tammi, mathew, walla, atheist, mango, benedikt, okcforum, keith, cobb, atheism, prepar, damnat, jsn, blashephem\n",
      "\u001b[1;31mcomp.graphics:\u001b[0m tiff, precompil, imag, abrash, montemayor, gmontem, pov, viewer, fashion, librari, cview, fractal, packag, rumour, mpeg, bham, polygon, projector, graphic, oasi\n",
      "\u001b[1;31mcomp.os.ms-windows.misc:\u001b[0m mfc, tapscott, wfw, calloway, nthu, doublespac, orst, maley, ramirez, download, bcsc, bmp, comdex, canon, window, gmt, winqvt, cica, protec, expir\n",
      "\u001b[1;31mcomp.sys.ibm.pc.hardware:\u001b[0m ide, digit, boston, interleav, viru, wish, gateway, clone, umeist, vlb, western, gosh, pentium, thorf, farrish, winmark, keyword, latonia, passman, fastmicro\n",
      "\u001b[1;31mcomp.sys.mac.hardware:\u001b[0m claremont, morgan, freshman, art, iici, ethernet, cyclon, victoria, bmug, appl, pre, kwgst, iisi, lewallen, lciii, quadra, duo, powerbook, mac, centri\n",
      "\u001b[1;31mcomp.windows.x:\u001b[0m client, christi, default, xlib, degre, venki, mufti, creat, xserver, script, server, folk, consortium, imak, xterm, yue, expo, xpert, widget, motif\n",
      "\u001b[1;31mmisc.forsale:\u001b[0m ega, ultrastor, estat, centuri, ship, phakt, keyboard, clemson, sell, camera, want, jac, wuee, offer, radio, distribut, sale, forsal, scan, semd\n",
      "\u001b[1;31mrec.autos:\u001b[0m jeep, integra, plate, wigg, warn, mazda, cla, leak, chevrolet, eliot, unisql, opel, napier, honda, swdwan, auto, automot, wan, intrepid, car\n",
      "\u001b[1;31mrec.motorcycles:\u001b[0m ranck, autodesk, jae, rec, advic, schultz, kelli, rev, ducati, moto, bmw, cbr, kreme, sold, ride, kawasaki, nuet, motorcycl, bike, dod\n",
      "\u001b[1;31mrec.sport.baseball:\u001b[0m jewish, dodger, fledgl, mcdowel, twin, cardiff, boell, stadium, astro, giant, jay, punjabi, tiger, sox, pitch, yanke, cub, erickson, philli, basebal\n",
      "\u001b[1;31mrec.sport.hockey:\u001b[0m bruin, telecomput, devil, rinaco, winner, daigl, pen, utk, flyer, final, penguin, hab, tennesse, khettri, rfl, wangr, beat, playoff, nhl, hockey\n",
      "\u001b[1;31msci.crypt:\u001b[0m issa, onc, rsa, escrow, key, schneier, curtin, nsa, password, crypto, wiretap, cryptographi, brinich, secur, gtoal, pgp, tap, encrypt, crypt, clipper\n",
      "\u001b[1;31msci.electronics:\u001b[0m electr, microwav, scope, amcu, usl, fluke, rogerw, low, detector, assembl, martin, wex, differenti, motorola, shack, yxi, explod, electron, circuit, scanner\n",
      "\u001b[1;31msci.med:\u001b[0m seizur, pitt, leung, krillean, almanac, claussen, erythromycin, jeev, mitchum, treatment, radford, msg, medic, syndrom, jmetz, cancer, roxon, diseas, photographi, doctor\n",
      "\u001b[1;31msci.space:\u001b[0m gamma, thruster, sunris, spacecraft, sunset, twist, ether, opu, launch, dgi, jennis, dietz, sci, prb, fund, moon, planet, ryukoku, orbit, space\n",
      "\u001b[1;31msoc.religion.christian:\u001b[0m nusunix, easter, rise, petch, oser, arrog, bucknel, roman, prayer, rutger, beyer, fisher, accur, translat, gvg, bassili, geneva, dohertyl, atho, clh\n",
      "\u001b[1;31mtalk.politics.guns:\u001b[0m luser, fjk, nra, gritz, batf, cnn, oldham, gunsmith, weapon, waco, ranch, feustel, atf, nagl, dividian, cadenc, handgun, cathi, firearm, gun\n",
      "\u001b[1;31mtalk.politics.mideast:\u001b[0m holocaust, argic, jar, jew, fundamentalist, yigal, timucin, kramer, freeman, racism, thee, turkish, hezbollah, adl, armenian, terror, nunneri, fourd, israel, isra\n",
      "\u001b[1;31mtalk.politics.misc:\u001b[0m violenc, optilink, girish, merrimack, lynn, karadz, edward, teel, neal, sexual, clinton, bitnet, mentor, celebr, guilti, kaldi, cunyvm, edo, ott, narr\n",
      "\u001b[1;31mtalk.religion.misc:\u001b[0m joensuu, jmeritt, contradict, scic, sandvik, jvp, groothui, cult, hudson, sword, psyrobtw, koresh, alicea, thyagi, age, scientolog, beast, weiss, biblic, promis\n",
      "--------------------------------------------------------------------------------\n",
      "================================================================================\n"
     ]
    }
   ],
   "source": [
    "print_top_word(SVC_clf)"
   ]
  },
  {
   "cell_type": "code",
   "execution_count": 85,
   "metadata": {
    "scrolled": false
   },
   "outputs": [],
   "source": [
    "top_words = top_word_list(SVC_clf)"
   ]
  },
  {
   "cell_type": "code",
   "execution_count": 86,
   "metadata": {},
   "outputs": [
    {
     "data": {
      "text/html": [
       "<div>\n",
       "<style scoped>\n",
       "    .dataframe tbody tr th:only-of-type {\n",
       "        vertical-align: middle;\n",
       "    }\n",
       "\n",
       "    .dataframe tbody tr th {\n",
       "        vertical-align: top;\n",
       "    }\n",
       "\n",
       "    .dataframe thead th {\n",
       "        text-align: right;\n",
       "    }\n",
       "</style>\n",
       "<table border=\"1\" class=\"dataframe\">\n",
       "  <thead>\n",
       "    <tr style=\"text-align: right;\">\n",
       "      <th></th>\n",
       "      <th>word</th>\n",
       "      <th>probability</th>\n",
       "    </tr>\n",
       "  </thead>\n",
       "  <tbody>\n",
       "    <tr>\n",
       "      <th>224</th>\n",
       "      <td>warn</td>\n",
       "      <td>0.003333</td>\n",
       "    </tr>\n",
       "    <tr>\n",
       "      <th>367</th>\n",
       "      <td>sci</td>\n",
       "      <td>0.003333</td>\n",
       "    </tr>\n",
       "    <tr>\n",
       "      <th>0</th>\n",
       "      <td>maddi</td>\n",
       "      <td>0.001667</td>\n",
       "    </tr>\n",
       "    <tr>\n",
       "      <th>1</th>\n",
       "      <td>psilink</td>\n",
       "      <td>0.001667</td>\n",
       "    </tr>\n",
       "    <tr>\n",
       "      <th>2</th>\n",
       "      <td>umd</td>\n",
       "      <td>0.001667</td>\n",
       "    </tr>\n",
       "    <tr>\n",
       "      <th>3</th>\n",
       "      <td>bibl</td>\n",
       "      <td>0.001667</td>\n",
       "    </tr>\n",
       "    <tr>\n",
       "      <th>4</th>\n",
       "      <td>rushdi</td>\n",
       "      <td>0.001667</td>\n",
       "    </tr>\n",
       "    <tr>\n",
       "      <th>5</th>\n",
       "      <td>osrh</td>\n",
       "      <td>0.001667</td>\n",
       "    </tr>\n",
       "    <tr>\n",
       "      <th>6</th>\n",
       "      <td>charley</td>\n",
       "      <td>0.001667</td>\n",
       "    </tr>\n",
       "    <tr>\n",
       "      <th>7</th>\n",
       "      <td>jaeger</td>\n",
       "      <td>0.001667</td>\n",
       "    </tr>\n",
       "    <tr>\n",
       "      <th>8</th>\n",
       "      <td>crchh</td>\n",
       "      <td>0.001667</td>\n",
       "    </tr>\n",
       "    <tr>\n",
       "      <th>9</th>\n",
       "      <td>wingat</td>\n",
       "      <td>0.001667</td>\n",
       "    </tr>\n",
       "    <tr>\n",
       "      <th>10</th>\n",
       "      <td>kmr</td>\n",
       "      <td>0.001667</td>\n",
       "    </tr>\n",
       "    <tr>\n",
       "      <th>11</th>\n",
       "      <td>wwc</td>\n",
       "      <td>0.001667</td>\n",
       "    </tr>\n",
       "    <tr>\n",
       "      <th>12</th>\n",
       "      <td>sole</td>\n",
       "      <td>0.001667</td>\n",
       "    </tr>\n",
       "    <tr>\n",
       "      <th>13</th>\n",
       "      <td>islam</td>\n",
       "      <td>0.001667</td>\n",
       "    </tr>\n",
       "    <tr>\n",
       "      <th>14</th>\n",
       "      <td>scout</td>\n",
       "      <td>0.001667</td>\n",
       "    </tr>\n",
       "    <tr>\n",
       "      <th>15</th>\n",
       "      <td>lunat</td>\n",
       "      <td>0.001667</td>\n",
       "    </tr>\n",
       "    <tr>\n",
       "      <th>16</th>\n",
       "      <td>tammi</td>\n",
       "      <td>0.001667</td>\n",
       "    </tr>\n",
       "    <tr>\n",
       "      <th>17</th>\n",
       "      <td>mathew</td>\n",
       "      <td>0.001667</td>\n",
       "    </tr>\n",
       "    <tr>\n",
       "      <th>18</th>\n",
       "      <td>walla</td>\n",
       "      <td>0.001667</td>\n",
       "    </tr>\n",
       "    <tr>\n",
       "      <th>19</th>\n",
       "      <td>atheist</td>\n",
       "      <td>0.001667</td>\n",
       "    </tr>\n",
       "    <tr>\n",
       "      <th>20</th>\n",
       "      <td>mango</td>\n",
       "      <td>0.001667</td>\n",
       "    </tr>\n",
       "    <tr>\n",
       "      <th>21</th>\n",
       "      <td>benedikt</td>\n",
       "      <td>0.001667</td>\n",
       "    </tr>\n",
       "    <tr>\n",
       "      <th>22</th>\n",
       "      <td>okcforum</td>\n",
       "      <td>0.001667</td>\n",
       "    </tr>\n",
       "    <tr>\n",
       "      <th>23</th>\n",
       "      <td>keith</td>\n",
       "      <td>0.001667</td>\n",
       "    </tr>\n",
       "  </tbody>\n",
       "</table>\n",
       "</div>"
      ],
      "text/plain": [
       "         word  probability\n",
       "224      warn     0.003333\n",
       "367       sci     0.003333\n",
       "0       maddi     0.001667\n",
       "1     psilink     0.001667\n",
       "2         umd     0.001667\n",
       "3        bibl     0.001667\n",
       "4      rushdi     0.001667\n",
       "5        osrh     0.001667\n",
       "6     charley     0.001667\n",
       "7      jaeger     0.001667\n",
       "8       crchh     0.001667\n",
       "9      wingat     0.001667\n",
       "10        kmr     0.001667\n",
       "11        wwc     0.001667\n",
       "12       sole     0.001667\n",
       "13      islam     0.001667\n",
       "14      scout     0.001667\n",
       "15      lunat     0.001667\n",
       "16      tammi     0.001667\n",
       "17     mathew     0.001667\n",
       "18      walla     0.001667\n",
       "19    atheist     0.001667\n",
       "20      mango     0.001667\n",
       "21   benedikt     0.001667\n",
       "22   okcforum     0.001667\n",
       "23      keith     0.001667"
      ]
     },
     "execution_count": 86,
     "metadata": {},
     "output_type": "execute_result"
    }
   ],
   "source": [
    "word_df = pd.DataFrame(top_words, columns=['word', 'probability'])\n",
    "word_df.nlargest(26, 'probability')"
   ]
  },
  {
   "cell_type": "code",
   "execution_count": 87,
   "metadata": {},
   "outputs": [],
   "source": [
    "top_words.sort(key=lambda x: x[1])"
   ]
  },
  {
   "cell_type": "code",
   "execution_count": 88,
   "metadata": {
    "scrolled": true
   },
   "outputs": [
    {
     "name": "stdout",
     "output_type": "stream",
     "text": [
      "[['imperi', 0.0016666666666666668],\n",
      " ['order', 0.0016666666666666668],\n",
      " ['jefferi', 0.0016666666666666668],\n",
      " ['vernon', 0.0016666666666666668],\n",
      " ['joensuu', 0.0016666666666666668],\n",
      " ['jmeritt', 0.0016666666666666668],\n",
      " ['contradict', 0.0016666666666666668],\n",
      " ['scic', 0.0016666666666666668],\n",
      " ['sandvik', 0.0016666666666666668],\n",
      " ['jvp', 0.0016666666666666668],\n",
      " ['groothui', 0.0016666666666666668],\n",
      " ['cult', 0.0016666666666666668],\n",
      " ['hudson', 0.0016666666666666668],\n",
      " ['sword', 0.0016666666666666668],\n",
      " ['psyrobtw', 0.0016666666666666668],\n",
      " ['koresh', 0.0016666666666666668],\n",
      " ['alicea', 0.0016666666666666668],\n",
      " ['thyagi', 0.0016666666666666668],\n",
      " ['age', 0.0016666666666666668],\n",
      " ['scientolog', 0.0016666666666666668],\n",
      " ['beast', 0.0016666666666666668],\n",
      " ['weiss', 0.0016666666666666668],\n",
      " ['biblic', 0.0016666666666666668],\n",
      " ['promis', 0.0016666666666666668],\n",
      " ['warn', 0.0033333333333333335],\n",
      " ['sci', 0.0033333333333333335]]\n"
     ]
    }
   ],
   "source": [
    "non_sense_word = top_words[-26:]\n",
    "pprint(non_sense_word)"
   ]
  },
  {
   "cell_type": "code",
   "execution_count": 89,
   "metadata": {
    "scrolled": true
   },
   "outputs": [
    {
     "name": "stdout",
     "output_type": "stream",
     "text": [
      "'imperi'\n",
      "'order'\n",
      "'jefferi'\n",
      "'vernon'\n",
      "'joensuu'\n",
      "'jmeritt'\n",
      "'contradict'\n",
      "'scic'\n",
      "'sandvik'\n",
      "'jvp'\n",
      "'groothui'\n",
      "'cult'\n",
      "'hudson'\n",
      "'sword'\n",
      "'psyrobtw'\n",
      "'koresh'\n",
      "'alicea'\n",
      "'thyagi'\n",
      "'age'\n",
      "'scientolog'\n",
      "'beast'\n",
      "'weiss'\n",
      "'biblic'\n",
      "'promis'\n",
      "'warn'\n",
      "'sci'\n"
     ]
    }
   ],
   "source": [
    "for word in non_sense_word:\n",
    "    pprint(word[0])\n",
    "    stop_words.update([word[0]])"
   ]
  },
  {
   "cell_type": "code",
   "execution_count": 94,
   "metadata": {},
   "outputs": [],
   "source": [
    "preprocess_data = [clean(data) for data in preprocess_data]"
   ]
  },
  {
   "cell_type": "code",
   "execution_count": 91,
   "metadata": {},
   "outputs": [
    {
     "name": "stderr",
     "output_type": "stream",
     "text": [
      "C:\\Users\\manhd\\miniconda3\\lib\\site-packages\\sklearn\\svm\\_base.py:976: ConvergenceWarning: Liblinear failed to converge, increase the number of iterations.\n",
      "  warnings.warn(\"Liblinear failed to converge, increase \"\n"
     ]
    },
    {
     "data": {
      "text/plain": [
       "Pipeline(steps=[('vect', CountVectorizer()),\n",
       "                ('clf', LinearSVC(random_state=0, tol=0.001))])"
      ]
     },
     "execution_count": 91,
     "metadata": {},
     "output_type": "execute_result"
    }
   ],
   "source": [
    "SVC_clf.fit(preprocess_data, twenty_train.target)"
   ]
  },
  {
   "cell_type": "code",
   "execution_count": 92,
   "metadata": {},
   "outputs": [
    {
     "data": {
      "text/plain": [
       "0.6822889006903877"
      ]
     },
     "execution_count": 92,
     "metadata": {},
     "output_type": "execute_result"
    }
   ],
   "source": [
    "predicted = SVC_clf.predict(twenty_test.data)\n",
    "np.mean(predicted == twenty_test.target)"
   ]
  },
  {
   "cell_type": "code",
   "execution_count": 93,
   "metadata": {
    "scrolled": false
   },
   "outputs": [
    {
     "name": "stdout",
     "output_type": "stream",
     "text": [
      "Top 20 keywords per class \n",
      "\n",
      "\u001b[1;31malt.atheism:\u001b[0m wingat, wwc, sole, islam, scout, tammi, lunat, walla, atheist, mango, mathew, benedikt, okcforum, keith, cobb, prepar, atheism, damnat, jsn, blashephem\n",
      "\u001b[1;31mcomp.graphics:\u001b[0m precompil, tiff, imag, montemayor, gmontem, abrash, viewer, pov, fashion, librari, cview, fractal, packag, rumour, mpeg, bham, polygon, projector, graphic, oasi\n",
      "\u001b[1;31mcomp.os.ms-windows.misc:\u001b[0m mfc, wfw, tapscott, calloway, nthu, doublespac, orst, maley, ramirez, download, bcsc, bmp, comdex, canon, window, gmt, winqvt, cica, protec, expir\n",
      "\u001b[1;31mcomp.sys.ibm.pc.hardware:\u001b[0m ide, toshiba, interleav, boston, viru, gateway, wish, clone, umeist, vlb, western, gosh, thorf, farrish, pentium, winmark, keyword, latonia, passman, fastmicro\n",
      "\u001b[1;31mcomp.sys.mac.hardware:\u001b[0m claremont, morgan, freshman, art, cyclon, ethernet, iici, victoria, bmug, appl, pre, kwgst, iisi, lewallen, lciii, quadra, duo, powerbook, mac, centri\n",
      "\u001b[1;31mcomp.windows.x:\u001b[0m client, christi, default, xlib, degre, venki, mufti, creat, xserver, script, server, folk, consortium, imak, xterm, expo, yue, xpert, widget, motif\n",
      "\u001b[1;31mmisc.forsale:\u001b[0m keyboard, estat, ultrastor, phakt, centuri, ship, clemson, sell, camera, want, jac, misc, wuee, offer, radio, distribut, sale, forsal, scan, semd\n",
      "\u001b[1;31mrec.autos:\u001b[0m schrader, jeep, integra, plate, wigg, mazda, leak, cla, chevrolet, opel, eliot, unisql, napier, honda, swdwan, auto, wan, automot, intrepid, car\n",
      "\u001b[1;31mrec.motorcycles:\u001b[0m ranck, autodesk, rec, jae, advic, schultz, kelli, rev, ducati, moto, cbr, bmw, kreme, sold, ride, kawasaki, nuet, motorcycl, bike, dod\n",
      "\u001b[1;31mrec.sport.baseball:\u001b[0m jewish, dodger, fledgl, mcdowel, twin, cardiff, boell, stadium, astro, giant, jay, punjabi, tiger, sox, pitch, yanke, cub, erickson, philli, basebal\n",
      "\u001b[1;31mrec.sport.hockey:\u001b[0m bruin, telecomput, rinaco, devil, winner, daigl, pen, utk, flyer, final, penguin, hab, tennesse, khettri, rfl, wangr, beat, playoff, nhl, hockey\n",
      "\u001b[1;31msci.crypt:\u001b[0m issa, onc, rsa, key, escrow, schneier, curtin, nsa, password, wiretap, crypto, cryptographi, brinich, gtoal, secur, pgp, tap, encrypt, crypt, clipper\n",
      "\u001b[1;31msci.electronics:\u001b[0m electr, microwav, amcu, scope, usl, fluke, rogerw, low, detector, assembl, martin, differenti, wex, motorola, shack, yxi, explod, circuit, electron, scanner\n",
      "\u001b[1;31msci.med:\u001b[0m seizur, leung, pitt, krillean, almanac, claussen, erythromycin, jeev, mitchum, treatment, radford, msg, medic, syndrom, jmetz, cancer, roxon, diseas, photographi, doctor\n",
      "\u001b[1;31msci.space:\u001b[0m solar, gamma, thruster, sunris, spacecraft, opu, sunset, twist, ether, jennis, dgi, dietz, launch, prb, fund, moon, planet, ryukoku, orbit, space\n",
      "\u001b[1;31msoc.religion.christian:\u001b[0m rise, petch, easter, nusunix, oser, arrog, bucknel, roman, prayer, rutger, fisher, beyer, accur, translat, gvg, bassili, geneva, dohertyl, atho, clh\n",
      "\u001b[1;31mtalk.politics.guns:\u001b[0m luser, fjk, nra, gritz, batf, oldham, cnn, gunsmith, waco, ranch, weapon, atf, feustel, nagl, cadenc, dividian, handgun, cathi, firearm, gun\n",
      "\u001b[1;31mtalk.politics.mideast:\u001b[0m holocaust, argic, jew, jar, timucin, yigal, fundamentalist, kramer, freeman, racism, thee, turkish, hezbollah, adl, armenian, terror, nunneri, fourd, israel, isra\n",
      "\u001b[1;31mtalk.politics.misc:\u001b[0m violenc, optilink, merrimack, girish, lynn, karadz, neal, edward, teel, sexual, clinton, mentor, bitnet, celebr, guilti, kaldi, cunyvm, edo, ott, narr\n",
      "\u001b[1;31mtalk.religion.misc:\u001b[0m liddicott, ubvmsd, decenso, amdahl, utexa, nagasiva, morgoth, righteou, joslin, buffalo, enclos, suggest, info, ubvmsb, critu, park, messian, dougla, rosicrucian, expos\n",
      "--------------------------------------------------------------------------------\n",
      "================================================================================\n"
     ]
    }
   ],
   "source": [
    "print_top_word(SVC_clf)"
   ]
  },
  {
   "cell_type": "code",
   "execution_count": 103,
   "metadata": {},
   "outputs": [
    {
     "data": {
      "text/html": [
       "<div>\n",
       "<style scoped>\n",
       "    .dataframe tbody tr th:only-of-type {\n",
       "        vertical-align: middle;\n",
       "    }\n",
       "\n",
       "    .dataframe tbody tr th {\n",
       "        vertical-align: top;\n",
       "    }\n",
       "\n",
       "    .dataframe thead th {\n",
       "        text-align: right;\n",
       "    }\n",
       "</style>\n",
       "<table border=\"1\" class=\"dataframe\">\n",
       "  <thead>\n",
       "    <tr style=\"text-align: right;\">\n",
       "      <th></th>\n",
       "      <th>Raw</th>\n",
       "      <th>Lemmatized</th>\n",
       "    </tr>\n",
       "  </thead>\n",
       "  <tbody>\n",
       "    <tr>\n",
       "      <th>0</th>\n",
       "      <td>trouble</td>\n",
       "      <td>trouble</td>\n",
       "    </tr>\n",
       "    <tr>\n",
       "      <th>1</th>\n",
       "      <td>troubles</td>\n",
       "      <td>trouble</td>\n",
       "    </tr>\n",
       "    <tr>\n",
       "      <th>2</th>\n",
       "      <td>troubling</td>\n",
       "      <td>trouble</td>\n",
       "    </tr>\n",
       "    <tr>\n",
       "      <th>3</th>\n",
       "      <td>troubled</td>\n",
       "      <td>trouble</td>\n",
       "    </tr>\n",
       "  </tbody>\n",
       "</table>\n",
       "</div>"
      ],
      "text/plain": [
       "         Raw Lemmatized\n",
       "0    trouble    trouble\n",
       "1   troubles    trouble\n",
       "2  troubling    trouble\n",
       "3   troubled    trouble"
      ]
     },
     "execution_count": 103,
     "metadata": {},
     "output_type": "execute_result"
    }
   ],
   "source": [
    "ex_lst = [['trouble', 'trouble'], ['troubles', 'trouble'], ['troubling', 'trouble'], ['troubled', 'trouble']]\n",
    "ex = pd.DataFrame(ex_lst, columns=['Raw', 'Lemmatized'])\n",
    "ex.head()"
   ]
  },
  {
   "cell_type": "code",
   "execution_count": 105,
   "metadata": {},
   "outputs": [
    {
     "name": "stdout",
     "output_type": "stream",
     "text": [
      "{'itself', 'don', 'some', 'and', 'with', 've', 'wouldn', 'your', 'because', \"aren't\", \"weren't\", 'most', \"hasn't\", 'yours', 'against', 'an', 'shouldn', 'mightn', 'doing', 'couldn', 'mustn', 'this', 'should', \"needn't\", 'or', 'myself', 'd', 'hasn', 'just', 'over', 'am', 'isn', \"you're\", 'off', 'then', 'few', 'being', 're', 'now', 'yourself', 'have', 'so', 'here', 'm', \"mightn't\", 'where', 'before', 'if', 'can', \"doesn't\", 'again', 'above', \"won't\", 'such', \"that'll\", 'only', 'ourselves', 'you', 'through', 'me', 'until', 'after', 'own', 't', 'from', 'the', 'his', 'did', 'all', 'was', 'those', 'while', 'in', \"mustn't\", 'same', \"wouldn't\", 'theirs', 'shan', 'won', 'they', 'too', 'o', 'll', 'weren', 'haven', 'y', \"should've\", 'we', 'does', 'i', 'himself', 'ours', 'hers', 'my', 'below', \"you've\", 'didn', 'there', 'are', 'him', 'a', \"isn't\", 'what', \"couldn't\", 'up', 'both', 'is', 'as', 'into', 'down', 'been', 'of', 'once', 'ain', 'ma', 'very', 'having', 'who', \"she's\", 'its', \"you'd\", 'each', 'how', 'had', 'to', 'any', 'will', 'aren', 'nor', 'that', 'more', 'than', \"shan't\", 'by', 'hadn', 'on', \"hadn't\", 'it', \"don't\", 'these', 'were', 'not', 'them', 'she', 'out', 'herself', 'under', 'whom', \"shouldn't\", 'he', 'at', 'which', 'themselves', 'why', 'between', 'be', \"you'll\", 'about', 'when', 's', 'do', \"wasn't\", 'her', 'but', 'needn', 'no', 'has', 'our', \"it's\", 'further', 'during', 'yourselves', 'doesn', 'wasn', 'their', 'for', \"didn't\", \"haven't\", 'other'}\n"
     ]
    }
   ],
   "source": [
    "stopword = set(stopwords.words('english'))\n",
    "print(stopword)"
   ]
  },
  {
   "cell_type": "code",
   "execution_count": null,
   "metadata": {},
   "outputs": [],
   "source": []
  }
 ],
 "metadata": {
  "kernelspec": {
   "display_name": "Python 3",
   "language": "python",
   "name": "python3"
  },
  "language_info": {
   "codemirror_mode": {
    "name": "ipython",
    "version": 3
   },
   "file_extension": ".py",
   "mimetype": "text/x-python",
   "name": "python",
   "nbconvert_exporter": "python",
   "pygments_lexer": "ipython3",
   "version": "3.8.5"
  }
 },
 "nbformat": 4,
 "nbformat_minor": 2
}
